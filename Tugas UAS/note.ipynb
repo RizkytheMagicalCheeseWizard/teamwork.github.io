{
 "cells": [
  {
   "cell_type": "code",
   "execution_count": 26,
   "metadata": {},
   "outputs": [
    {
     "data": {
      "text/plain": [
       "[('rafli', 184), ('ogya', 173), ('pandu', 156)]"
      ]
     },
     "execution_count": 26,
     "metadata": {},
     "output_type": "execute_result"
    }
   ],
   "source": [
    "from metaflow import Flow\n",
    "run = Flow('KMeansFlow').latest_run\n",
    "\n",
    "k3 = run.data.top[3]\n",
    "k4 = run.data.top[4]\n",
    "k5 = run.data.top[5]\n",
    "\n",
    "k3[2][:3]"
   ]
  },
  {
   "cell_type": "code",
   "execution_count": 25,
   "metadata": {},
   "outputs": [
    {
     "data": {
      "text/plain": [
       "[('rafli', 115), ('ogya', 84), ('to', 82)]"
      ]
     },
     "execution_count": 25,
     "metadata": {},
     "output_type": "execute_result"
    }
   ],
   "source": [
    "from metaflow import Flow\n",
    "run = Flow('GaussianFlow').latest_run\n",
    "\n",
    "k3 = run.data.top[3]\n",
    "k4 = run.data.top[4]\n",
    "k5 = run.data.top[5]\n",
    "\n",
    "\n",
    "k3[2][:3]"
   ]
  }
 ],
 "metadata": {
  "kernelspec": {
   "display_name": "venv",
   "language": "python",
   "name": "python3"
  },
  "language_info": {
   "codemirror_mode": {
    "name": "ipython",
    "version": 3
   },
   "file_extension": ".py",
   "mimetype": "text/x-python",
   "name": "python",
   "nbconvert_exporter": "python",
   "pygments_lexer": "ipython3",
   "version": "3.10.16"
  }
 },
 "nbformat": 4,
 "nbformat_minor": 2
}
