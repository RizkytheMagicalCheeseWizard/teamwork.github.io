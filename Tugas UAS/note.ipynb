{
 "cells": [
  {
   "cell_type": "code",
   "execution_count": 28,
   "metadata": {},
   "outputs": [
    {
     "data": {
      "text/plain": [
       "[[('bang', 11), ('rafli', 6), ('farhan', 4)],\n",
       " [('farhan', 7), ('saya', 3), ('di', 2)],\n",
       " [('rizky', 11), ('saya', 1), ('rafli', 0)],\n",
       " [('rafli', 28), ('di', 2), ('buat', 2)],\n",
       " [('gilang', 40), ('itu', 4), ('buat', 4)]]"
      ]
     },
     "execution_count": 28,
     "metadata": {},
     "output_type": "execute_result"
    }
   ],
   "source": [
    "from metaflow import Flow\n",
    "run = Flow('GaussianFlow').latest_run\n",
    "\n",
    "k = run.data.top[5]\n",
    "\n",
    "k"
   ]
  }
 ],
 "metadata": {
  "kernelspec": {
   "display_name": "venv",
   "language": "python",
   "name": "python3"
  },
  "language_info": {
   "codemirror_mode": {
    "name": "ipython",
    "version": 3
   },
   "file_extension": ".py",
   "mimetype": "text/x-python",
   "name": "python",
   "nbconvert_exporter": "python",
   "pygments_lexer": "ipython3",
   "version": "3.10.16"
  }
 },
 "nbformat": 4,
 "nbformat_minor": 2
}
