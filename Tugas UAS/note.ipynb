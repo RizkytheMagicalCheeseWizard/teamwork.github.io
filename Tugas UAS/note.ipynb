{
 "cells": [
  {
   "cell_type": "code",
   "execution_count": 17,
   "metadata": {},
   "outputs": [
    {
     "name": "stdout",
     "output_type": "stream",
     "text": [
      "Cluster 3: [('rizky', 541), ('media', 326), ('omitted', 326)]\n",
      "Cluster 4: [('gilang', 1004), ('media', 66), ('omitted', 66)]\n",
      "Cluster 5: [('ogya', 173), ('pandu', 155), ('afrizal', 135)]\n"
     ]
    }
   ],
   "source": [
    "from metaflow import Flow\n",
    "run = Flow('KMeansFlow').latest_run\n",
    "\n",
    "k3 = run.data.top[3]\n",
    "k4 = run.data.top[4]\n",
    "k5 = run.data.top[5]\n",
    "\n",
    "# k3[0][:3]\n",
    "# k4[0][:3]\n",
    "# k5[0][:3]\n",
    "print(f\"Cluster 3: {k3[0][:3]}\")\n",
    "print(f\"Cluster 4: {k4[0][:3]}\")\n",
    "print(f\"Cluster 5: {k5[0][:3]}\")\n"
   ]
  },
  {
   "cell_type": "code",
   "execution_count": 16,
   "metadata": {},
   "outputs": [
    {
     "name": "stdout",
     "output_type": "stream",
     "text": [
      "Cluster 3: [('rizky', 545), ('gilang', 417), ('media', 326)]\n",
      "Cluster 4: [('afrizal', 161), ('media', 18), ('omitted', 18)]\n",
      "Cluster 5: [('gilang', 682), ('omitted', 66), ('media', 66)]\n"
     ]
    }
   ],
   "source": [
    "from metaflow import Flow\n",
    "run = Flow('GaussianFlow').latest_run\n",
    "\n",
    "k3 = run.data.top[3]\n",
    "k4 = run.data.top[4]\n",
    "k5 = run.data.top[5]\n",
    "\n",
    "\n",
    "# k3[0][:3]\n",
    "# k4[0][:3]\n",
    "# k5[0][:3]\n",
    "print(f\"Cluster 3: {k3[0][:3]}\")\n",
    "print(f\"Cluster 4: {k4[0][:3]}\")\n",
    "print(f\"Cluster 5: {k5[0][:3]}\")\n"
   ]
  }
 ],
 "metadata": {
  "kernelspec": {
   "display_name": "venv",
   "language": "python",
   "name": "python3"
  },
  "language_info": {
   "codemirror_mode": {
    "name": "ipython",
    "version": 3
   },
   "file_extension": ".py",
   "mimetype": "text/x-python",
   "name": "python",
   "nbconvert_exporter": "python",
   "pygments_lexer": "ipython3",
   "version": "3.10.16"
  }
 },
 "nbformat": 4,
 "nbformat_minor": 2
}
