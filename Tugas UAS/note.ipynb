{
 "cells": [
  {
   "cell_type": "code",
   "execution_count": 3,
   "metadata": {},
   "outputs": [
    {
     "data": {
      "text/plain": [
       "[[('rizky', 440), ('ogya', 159), ('afrizal', 116)],\n",
       " [('gilang', 864), ('ga', 57), ('yg', 41)],\n",
       " [('and', 59), ('to', 51), ('the', 38)],\n",
       " [('bang', 208), ('gilang', 56), ('rizky', 19)],\n",
       " [('omitted', 326), ('media', 326), ('rizky', 75)]]"
      ]
     },
     "execution_count": 3,
     "metadata": {},
     "output_type": "execute_result"
    }
   ],
   "source": [
    "from metaflow import Flow\n",
    "run = Flow('KMeansFlow').latest_run\n",
    "\n",
    "k = run.data.top[5]\n",
    "\n",
    "k"
   ]
  },
  {
   "cell_type": "code",
   "execution_count": 8,
   "metadata": {},
   "outputs": [
    {
     "data": {
      "text/plain": [
       "[[('gilang', 381), ('media', 310), ('omitted', 310)],\n",
       " [('rizky', 342), ('ogya', 116), ('to', 93)],\n",
       " [('gilang', 606), ('ga', 49), ('yg', 47)]]"
      ]
     },
     "execution_count": 8,
     "metadata": {},
     "output_type": "execute_result"
    }
   ],
   "source": [
    "from metaflow import Flow\n",
    "run = Flow('GaussianFlow').latest_run\n",
    "\n",
    "k = run.data.top[3]\n",
    "\n",
    "k"
   ]
  }
 ],
 "metadata": {
  "kernelspec": {
   "display_name": "venv",
   "language": "python",
   "name": "python3"
  },
  "language_info": {
   "codemirror_mode": {
    "name": "ipython",
    "version": 3
   },
   "file_extension": ".py",
   "mimetype": "text/x-python",
   "name": "python",
   "nbconvert_exporter": "python",
   "pygments_lexer": "ipython3",
   "version": "3.10.16"
  }
 },
 "nbformat": 4,
 "nbformat_minor": 2
}
