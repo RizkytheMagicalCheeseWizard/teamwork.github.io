{
 "cells": [
  {
   "cell_type": "code",
   "execution_count": 3,
   "metadata": {},
   "outputs": [
    {
     "data": {
      "text/plain": [
       "[[('rizky', 440), ('ogya', 159), ('afrizal', 116)],\n",
       " [('gilang', 864), ('ga', 57), ('yg', 41)],\n",
       " [('and', 59), ('to', 51), ('the', 38)],\n",
       " [('bang', 208), ('gilang', 56), ('rizky', 19)],\n",
       " [('omitted', 326), ('media', 326), ('rizky', 75)]]"
      ]
     },
     "execution_count": 3,
     "metadata": {},
     "output_type": "execute_result"
    }
   ],
   "source": [
    "from metaflow import Flow\n",
    "run = Flow('KMeansFlow').latest_run\n",
    "\n",
    "k = run.data.top[5]\n",
    "\n",
    "k"
   ]
  },
  {
   "cell_type": "code",
   "execution_count": 6,
   "metadata": {},
   "outputs": [
    {
     "data": {
      "text/plain": [
       "[[('rizky', 11), ('saya', 1), ('itu', 0)],\n",
       " [('bang', 13), ('farhan', 4), ('aja', 2)],\n",
       " [('gilang', 33), ('buat', 4), ('aja', 2)],\n",
       " [('farhan', 7), ('saya', 4), ('di', 4)],\n",
       " [('itu', 5), ('gilang', 4), ('saya', 0)]]"
      ]
     },
     "execution_count": 6,
     "metadata": {},
     "output_type": "execute_result"
    }
   ],
   "source": [
    "from metaflow import Flow\n",
    "run = Flow('GaussianFlow').latest_run\n",
    "\n",
    "k = run.data.top[5]\n",
    "\n",
    "k"
   ]
  }
 ],
 "metadata": {
  "kernelspec": {
   "display_name": "venv",
   "language": "python",
   "name": "python3"
  },
  "language_info": {
   "codemirror_mode": {
    "name": "ipython",
    "version": 3
   },
   "file_extension": ".py",
   "mimetype": "text/x-python",
   "name": "python",
   "nbconvert_exporter": "python",
   "pygments_lexer": "ipython3",
   "version": "3.10.16"
  }
 },
 "nbformat": 4,
 "nbformat_minor": 2
}
